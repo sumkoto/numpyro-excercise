{
 "cells": [
  {
   "cell_type": "code",
   "execution_count": null,
   "metadata": {},
   "outputs": [],
   "source": [
    "import os\n",
    "import glob\n",
    "import sys\n",
    "import warnings\n",
    "import configparser\n",
    "\n",
    "import pandas as pd\n",
    "import numpy as np\n",
    "import jax\n",
    "import jax.numpy as jnp\n",
    "from jax import lax, random, vmap\n",
    "import numpyro\n",
    "import numpyro.distributions as dist\n",
    "from numpyro.infer import Predictive, MCMC, NUTS\n",
    "\n",
    "import matplotlib.pyplot as plt\n",
    "import seaborn as sns\n",
    "import arviz as az\n",
    "\n",
    "sys.path.append('../../src/')\n",
    "\n",
    "from models.inference import run_mcmc_inference, check_mcmc_inference\n",
    "from models.prediction import get_ppc\n",
    "\n",
    "# 図のテーマを設定\n",
    "sns.set_theme(style=\"darkgrid\", context=\"talk\")\n",
    "# Warningを非表示\n",
    "warnings.filterwarnings(\"ignore\")\n",
    "# pandasの表示可能な幅を変更\n",
    "pd.set_option(\"display.max_columns\", 300)\n",
    "\n",
    "numpyro.set_platform('cpu')\n",
    "numpyro.set_host_device_count(4)\n",
    "\n",
    "%matplotlib inline\n",
    "%load_ext autoreload\n",
    "%autoreload 2"
   ]
  }
 ],
 "metadata": {
  "interpreter": {
   "hash": "7992894d47f4f94673d1cc18004ee19bd9d8c40373070b09db80f16fa2180155"
  },
  "kernelspec": {
   "display_name": "Python 3.8.12 ('.venv': venv)",
   "language": "python",
   "name": "python3"
  },
  "language_info": {
   "name": "python",
   "version": "3.8.12"
  },
  "orig_nbformat": 4
 },
 "nbformat": 4,
 "nbformat_minor": 2
}
