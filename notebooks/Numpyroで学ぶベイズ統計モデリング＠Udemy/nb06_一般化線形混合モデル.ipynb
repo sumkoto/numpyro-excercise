{
 "cells": [
  {
   "cell_type": "code",
   "execution_count": 1,
   "metadata": {},
   "outputs": [],
   "source": [
    "import os\n",
    "import glob\n",
    "import sys\n",
    "import warnings\n",
    "import configparser\n",
    "\n",
    "import pandas as pd\n",
    "import numpy as np\n",
    "import jax\n",
    "import jax.numpy as jnp\n",
    "from jax import lax, random, vmap\n",
    "\n",
    "import numpyro\n",
    "import numpyro.distributions as dist\n",
    "from numpyro.infer import Predictive, MCMC, NUTS\n",
    "\n",
    "import matplotlib.pyplot as plt\n",
    "import seaborn as sns\n",
    "import arviz as az\n",
    "\n",
    "sys.path.append('../src/')\n",
    "\n",
    "# 図のテーマを設定\n",
    "sns.set_theme(style=\"darkgrid\", context=\"talk\")\n",
    "# Warningを非表示\n",
    "warnings.filterwarnings(\"ignore\")\n",
    "# pandasの表示可能な幅を変更\n",
    "pd.set_option(\"display.max_columns\", 300)\n",
    "\n",
    "rng_key = random.PRNGKey(1)\n",
    "numpyro.set_platform('cpu')\n",
    "numpyro.set_host_device_count(4)\n",
    "\n",
    "%matplotlib inline\n",
    "%load_ext autoreload\n",
    "%autoreload 2"
   ]
  },
  {
   "cell_type": "code",
   "execution_count": null,
   "metadata": {},
   "outputs": [],
   "source": []
  }
 ],
 "metadata": {
  "interpreter": {
   "hash": "7992894d47f4f94673d1cc18004ee19bd9d8c40373070b09db80f16fa2180155"
  },
  "kernelspec": {
   "display_name": "Python 3.8.12 ('.venv': venv)",
   "language": "python",
   "name": "python3"
  },
  "language_info": {
   "codemirror_mode": {
    "name": "ipython",
    "version": 3
   },
   "file_extension": ".py",
   "mimetype": "text/x-python",
   "name": "python",
   "nbconvert_exporter": "python",
   "pygments_lexer": "ipython3",
   "version": "3.8.12"
  },
  "orig_nbformat": 4
 },
 "nbformat": 4,
 "nbformat_minor": 2
}
